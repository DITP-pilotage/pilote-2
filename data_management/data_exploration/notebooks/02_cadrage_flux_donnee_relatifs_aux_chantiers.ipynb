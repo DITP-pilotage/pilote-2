{
 "cells": [
  {
   "cell_type": "markdown",
   "id": "debaed16",
   "metadata": {},
   "source": [
    "# Notebook pour le cadrage des flux de données relatifs aux chantiers"
   ]
  },
  {
   "cell_type": "code",
   "execution_count": null,
   "id": "ee97e66b",
   "metadata": {},
   "outputs": [],
   "source": [
    "# import des librairies nécessaires pour l'exploration\n",
    "import pandas as pd"
   ]
  },
  {
   "cell_type": "code",
   "execution_count": null,
   "id": "3f0557dc",
   "metadata": {},
   "outputs": [],
   "source": [
    "pd.set_option('display.max_columns', 100)\n",
    "pd.set_option('display.max_rows', 100)"
   ]
  },
  {
   "cell_type": "code",
   "execution_count": null,
   "id": "5a07c788",
   "metadata": {
    "scrolled": true
   },
   "outputs": [],
   "source": [
    "# chargement des données du csv liste de chantiers persevérants\n",
    "df_chantiers_perseverants = pd.read_csv('../data/DITP_Liste_chantiers_perseverants-avec-trigramme.csv')"
   ]
  },
  {
   "cell_type": "code",
   "execution_count": null,
   "id": "41308413",
   "metadata": {},
   "outputs": [],
   "source": [
    "# affichage du dataframe\n",
    "df_chantiers_perseverants"
   ]
  },
  {
   "cell_type": "code",
   "execution_count": null,
   "id": "93f7580f",
   "metadata": {},
   "outputs": [],
   "source": [
    "df_view_meta_chantier = pd.read_csv('../data/view_meta_chantier.csv')"
   ]
  },
  {
   "cell_type": "code",
   "execution_count": null,
   "id": "4ee11e32",
   "metadata": {},
   "outputs": [],
   "source": [
    "df_view_meta_chantier"
   ]
  },
  {
   "cell_type": "code",
   "execution_count": null,
   "id": "6139fb16",
   "metadata": {},
   "outputs": [],
   "source": [
    "df_view_meta_chantier.isna().sum()"
   ]
  },
  {
   "cell_type": "code",
   "execution_count": null,
   "id": "e0d51b6b",
   "metadata": {},
   "outputs": [],
   "source": [
    "df_view_meta_chantier = df_view_meta_chantier.dropna(subset=['ch_nom'])"
   ]
  },
  {
   "cell_type": "code",
   "execution_count": null,
   "id": "85d7d536",
   "metadata": {},
   "outputs": [],
   "source": [
    "df_view_meta_chantier = df_view_meta_chantier.dropna(subset=['ch_per'])"
   ]
  },
  {
   "cell_type": "code",
   "execution_count": null,
   "id": "fac8f8e3",
   "metadata": {},
   "outputs": [],
   "source": [
    "df_view_meta_chantier = df_view_meta_chantier.reset_index()"
   ]
  },
  {
   "cell_type": "code",
   "execution_count": null,
   "id": "2cfad072",
   "metadata": {},
   "outputs": [],
   "source": [
    "df_view_meta_chantier = df_view_meta_chantier.drop(columns = ['index'])"
   ]
  },
  {
   "cell_type": "code",
   "execution_count": null,
   "id": "17c8c09e",
   "metadata": {},
   "outputs": [],
   "source": [
    "df_view_meta_chantier"
   ]
  },
  {
   "cell_type": "code",
   "execution_count": null,
   "id": "a081283d",
   "metadata": {},
   "outputs": [],
   "source": [
    "df_view_meta_chantier.to_csv('../data/view_meta_chantier_v2.csv')"
   ]
  },
  {
   "cell_type": "markdown",
   "id": "4fc4bf3d",
   "metadata": {},
   "source": [
    "******\n",
    "******"
   ]
  },
  {
   "cell_type": "code",
   "execution_count": null,
   "id": "f2d59b2a",
   "metadata": {},
   "outputs": [],
   "source": [
    "df_view_meta_perimetre = pd.read_csv('../data/view_meta_perimetre.csv')"
   ]
  },
  {
   "cell_type": "code",
   "execution_count": null,
   "id": "fc3ce856",
   "metadata": {},
   "outputs": [],
   "source": [
    "df_view_meta_perimetre"
   ]
  },
  {
   "cell_type": "code",
   "execution_count": null,
   "id": "edaa6bfc",
   "metadata": {},
   "outputs": [],
   "source": []
  }
 ],
 "metadata": {
  "kernelspec": {
   "display_name": "Python 3 (ipykernel)",
   "language": "python",
   "name": "python3"
  },
  "language_info": {
   "codemirror_mode": {
    "name": "ipython",
    "version": 3
   },
   "file_extension": ".py",
   "mimetype": "text/x-python",
   "name": "python",
   "nbconvert_exporter": "python",
   "pygments_lexer": "ipython3",
   "version": "3.9.16"
  }
 },
 "nbformat": 4,
 "nbformat_minor": 5
}
