{
 "cells": [
  {
   "cell_type": "markdown",
   "id": "debaed16",
   "metadata": {},
   "source": [
    "# Template de notebook d'exploration de données"
   ]
  },
  {
   "cell_type": "code",
   "execution_count": null,
   "id": "ee97e66b",
   "metadata": {},
   "outputs": [],
   "source": [
    "# import des librairies nécessaires pour l'exploration\n",
    "import pandas as pd"
   ]
  },
  {
   "cell_type": "code",
   "execution_count": null,
   "id": "3f0557dc",
   "metadata": {},
   "outputs": [],
   "source": [
    "pd.set_option('display.max_columns', 100)\n",
    "pd.set_option('display.max_rows', 1000)"
   ]
  },
  {
   "cell_type": "code",
   "execution_count": null,
   "id": "5a07c788",
   "metadata": {
    "scrolled": true
   },
   "outputs": [],
   "source": [
    "# chargement des données d'un csv dans un dataframe\n",
    "df_historique_indicateurs = pd.read_csv(\n",
    "    '../../input_data/private_data/dump_dfakto_octo/rp/raw/fact_financials_enr.csv', sep =\";\")"
   ]
  },
  {
   "cell_type": "code",
   "execution_count": null,
   "id": "f3542cef",
   "metadata": {},
   "outputs": [],
   "source": [
    "df_historique_indicateurs.shape[0]"
   ]
  },
  {
   "cell_type": "code",
   "execution_count": null,
   "id": "fbfe98ba",
   "metadata": {},
   "outputs": [],
   "source": [
    "df_historique_indicateurs.describe(include='all')"
   ]
  },
  {
   "cell_type": "markdown",
   "id": "fb3a8bc9",
   "metadata": {},
   "source": [
    "## suppression des colonnes sans apport d'information"
   ]
  },
  {
   "cell_type": "code",
   "execution_count": null,
   "id": "c877fc24",
   "metadata": {},
   "outputs": [],
   "source": [
    "df_historique_indicateurs = df_historique_indicateurs.drop(columns=['currency_id', 'financials_cumulated_amount', \n",
    "                                                                    'financials_base_currency_flag',\n",
    "                                                                    'financials_level_aggregation', 'snapshot_date'])"
   ]
  },
  {
   "cell_type": "code",
   "execution_count": null,
   "id": "e0d51b6b",
   "metadata": {
    "scrolled": false
   },
   "outputs": [],
   "source": [
    "df_historique_indicateurs_short = df_historique_indicateurs[\n",
    "    ['tree_node_id','effect_id','period_id','state_id','financials_decumulated_amount']\n",
    "][\n",
    "    df_historique_indicateurs['financials_decumulated_amount'].notna()\n",
    "].sort_values(by=['tree_node_id', 'effect_id', 'period_id'])#.to_csv('test.csv', index=False)"
   ]
  },
  {
   "cell_type": "code",
   "execution_count": null,
   "id": "2ad55fa3",
   "metadata": {},
   "outputs": [],
   "source": [
    "df = df_historique_indicateurs_short[df_historique_indicateurs_short['state_id']=='Valeur Actuelle']"
   ]
  },
  {
   "cell_type": "code",
   "execution_count": null,
   "id": "f77836b3",
   "metadata": {
    "scrolled": false
   },
   "outputs": [],
   "source": [
    "df.head(1000)"
   ]
  }
 ],
 "metadata": {
  "kernelspec": {
   "display_name": "Python 3 (ipykernel)",
   "language": "python",
   "name": "python3"
  },
  "language_info": {
   "codemirror_mode": {
    "name": "ipython",
    "version": 3
   },
   "file_extension": ".py",
   "mimetype": "text/x-python",
   "name": "python",
   "nbconvert_exporter": "python",
   "pygments_lexer": "ipython3",
   "version": "3.9.16"
  }
 },
 "nbformat": 4,
 "nbformat_minor": 5
}
