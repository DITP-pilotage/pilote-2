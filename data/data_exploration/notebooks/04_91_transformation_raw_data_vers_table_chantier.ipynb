{
 "cells": [
  {
   "cell_type": "markdown",
   "id": "debaed16",
   "metadata": {},
   "source": [
    "# Transformation des données des tables raw_data vers la table chantier pour le schéma public"
   ]
  },
  {
   "cell_type": "code",
   "execution_count": null,
   "id": "ee97e66b",
   "metadata": {},
   "outputs": [],
   "source": [
    "# import des librairies nécessaires pour l'exploration\n",
    "import pandas as pd\n",
    "from pandas_profiling import ProfileReport\n",
    "from dotenv import load_dotenv\n",
    "\n",
    "from ditp.postgresql.connector import PostgreSQLConnector\n",
    "\n",
    "pd.set_option('display.max_columns', 100)\n",
    "pd.set_option('display.max_rows', 350)"
   ]
  },
  {
   "cell_type": "code",
   "execution_count": null,
   "id": "da72e048-3f8b-4a0c-8e92-3d4dc5d72a11",
   "metadata": {},
   "outputs": [],
   "source": [
    "# Chargement des variables d'environnement\n",
    "load_dotenv('../../.env')"
   ]
  },
  {
   "cell_type": "markdown",
   "id": "8c437456",
   "metadata": {},
   "source": [
    "## Lire des données d'une table"
   ]
  },
  {
   "cell_type": "code",
   "execution_count": null,
   "id": "3f0557dc",
   "metadata": {},
   "outputs": [],
   "source": [
    "def read_table(table: str, schema = 'public') -> pd.DataFrame:\n",
    "    pg_connector = PostgreSQLConnector()\n",
    "    table = pd.read_sql_query(\n",
    "        sql=f'''\n",
    "                SELECT *\n",
    "                FROM {schema}.{table}\n",
    "                ''',\n",
    "        con=pg_connector.connection\n",
    "    )\n",
    "    return table"
   ]
  },
  {
   "cell_type": "code",
   "execution_count": null,
   "id": "0530e417",
   "metadata": {},
   "outputs": [],
   "source": [
    "def execute_sql(sql_request: str) -> pd.DataFrame:\n",
    "    pg_connector = PostgreSQLConnector()\n",
    "    table = pd.read_sql_query(\n",
    "        sql=sql_request,\n",
    "        con=pg_connector.connection\n",
    "    )\n",
    "    return table"
   ]
  },
  {
   "cell_type": "markdown",
   "id": "753219b5",
   "metadata": {},
   "source": [
    "### Lecture des tables "
   ]
  },
  {
   "cell_type": "code",
   "execution_count": null,
   "id": "6322eaff",
   "metadata": {},
   "outputs": [],
   "source": [
    "metadata_chantier = read_table('metadata_chantier', 'raw_data')\n",
    "fact_progress_chantier = read_table('fact_progress_chantier', 'raw_data')\n",
    "dim_structures = read_table('dim_structures', 'raw_data')\n",
    "dim_tree_nodes = read_table('dim_tree_nodes', 'raw_data')"
   ]
  },
  {
   "cell_type": "code",
   "execution_count": null,
   "id": "20921097",
   "metadata": {},
   "outputs": [],
   "source": [
    "prof = ProfileReport(metadata_chantier)\n",
    "prof.to_file(output_file='rapport_metadata_chantier.html')"
   ]
  },
  {
   "cell_type": "code",
   "execution_count": null,
   "id": "38cff02d-53f1-4d41-b77b-4cac851e5d2f",
   "metadata": {},
   "outputs": [],
   "source": [
    "prof = ProfileReport(fact_progress_chantier)\n",
    "prof.to_file(output_file='rapport_fact_progress_chantier.html')"
   ]
  },
  {
   "cell_type": "code",
   "execution_count": null,
   "id": "abe17454",
   "metadata": {},
   "outputs": [],
   "source": [
    "prof = ProfileReport(dim_structures)\n",
    "prof.to_file(output_file='rapport_dim_structures.html')"
   ]
  },
  {
   "cell_type": "code",
   "execution_count": null,
   "id": "92142961",
   "metadata": {},
   "outputs": [],
   "source": [
    "prof = ProfileReport(dim_tree_nodes)\n",
    "prof.to_file(output_file='rapport_dim_tree_nodes.html')"
   ]
  },
  {
   "cell_type": "markdown",
   "id": "65c1798f",
   "metadata": {},
   "source": [
    "### Requête SQL"
   ]
  },
  {
   "cell_type": "markdown",
   "id": "02e50b31",
   "metadata": {},
   "source": [
    "#### Dfakto chantier\n",
    "\n",
    "Récupération des données des chantiers avec les données issues de dfakto"
   ]
  },
  {
   "cell_type": "code",
   "execution_count": null,
   "id": "f3d045f4-e8eb-4cf1-82a2-379f33286650",
   "metadata": {},
   "outputs": [],
   "source": [
    "fact_progress_chantier.shape"
   ]
  },
  {
   "cell_type": "code",
   "execution_count": null,
   "id": "b746195b",
   "metadata": {},
   "outputs": [],
   "source": [
    "sql_request_dfakto = f''' \n",
    "    SELECT fpc.tree_node_id, \n",
    "        fpc.bounded_progress, \n",
    "        fpc.progress, \n",
    "        dtn.structure_id, \n",
    "        dtn.maturity_id, \n",
    "        dtn.tree_node_code,\n",
    "        split_part(dtn.tree_node_code, '-', 1) as code_chantier,\n",
    "        split_part(dtn.tree_node_code, '-', 2) as code_region, \n",
    "        dtn.tree_node_name, \n",
    "        dtn.tree_node_status, \n",
    "        ds.top_level_id, \n",
    "        ds.structure_name, \n",
    "        ds.structure_level \n",
    "    FROM raw_data.fact_progress_chantier fpc \n",
    "        JOIN raw_data.dim_tree_nodes dtn ON fpc.tree_node_id = dtn.tree_node_id \n",
    "        JOIN raw_data.dim_structures ds ON dtn.structure_id = ds.structure_id\n",
    "        WHERE  ds.structure_name IN ('Réforme', 'Région')\n",
    "'''"
   ]
  },
  {
   "cell_type": "code",
   "execution_count": null,
   "id": "54dd6ece",
   "metadata": {},
   "outputs": [],
   "source": [
    "dfakto_chantiers = execute_sql(sql_request_dfakto)\n",
    "#dfakto_chantiers = dfakto_chantiers.T.drop_duplicates().T\n",
    "print(dfakto_chantiers.shape)\n",
    "print(dfakto_chantiers[['tree_node_code']].value_counts(ascending=True).reset_index(name='count').shape)"
   ]
  },
  {
   "cell_type": "code",
   "execution_count": null,
   "id": "6409644f",
   "metadata": {},
   "outputs": [],
   "source": [
    "dfakto_chantiers.structure_name.value_counts()"
   ]
  },
  {
   "cell_type": "code",
   "execution_count": null,
   "id": "11c905d4",
   "metadata": {
    "scrolled": true,
    "tags": []
   },
   "outputs": [],
   "source": [
    "dfakto_chantiers.head(200)"
   ]
  },
  {
   "cell_type": "markdown",
   "id": "fa29ebab",
   "metadata": {},
   "source": [
    "#### Public chantier\n",
    "\n",
    "Dans cette partie, on souhaite construire la table `public.chantier` pour les niveaux : réforme (national), régions et départements\n",
    "\n",
    "##### Table public.chantier au niveau National "
   ]
  },
  {
   "cell_type": "code",
   "execution_count": null,
   "id": "ed5f1f7c",
   "metadata": {},
   "outputs": [],
   "source": [
    "sql_chantier_national = f'''\n",
    "    WITH dfakto_chantier AS (\n",
    "        SELECT fact_progress_chantier.tree_node_id,\n",
    "            fact_progress_chantier.bounded_progress,\n",
    "            split_part(dim_tree_nodes.tree_node_code, '-', 1) as code_region,\n",
    "            split_part(dim_tree_nodes.tree_node_code, '-', 2) as code_chantier\n",
    "        FROM raw_data.fact_progress_chantier \n",
    "            JOIN raw_data.dim_tree_nodes ON fact_progress_chantier.tree_node_id = dim_tree_nodes.tree_node_id \n",
    "            JOIN raw_data.dim_structures ON dim_tree_nodes.structure_id = dim_structures.structure_id \n",
    "        WHERE dim_structures.structure_name='Réforme'\n",
    "    )\n",
    "    SELECT m_chantier.chantier_id as id,\n",
    "        m_chantier.ch_nom as nom,\n",
    "        m_chantier.ch_per as perimetre_ids,\n",
    "        m_chantier.\"porteur_ids_noDAC\" as porteurs_ids,\n",
    "        m_chantier.\"porteur_ids_DAC\" as porteurs_dac_ids,\n",
    "        d_chantier.bounded_progress as taux_avancement,\n",
    "        m_zone.nom as zone_nom,\n",
    "        m_zone.zone_code as code_insee\n",
    "    FROM raw_data.metadata_chantier m_chantier\n",
    "        LEFT JOIN dfakto_chantier d_chantier ON m_chantier.ch_perseverant = d_chantier.code_chantier\n",
    "        JOIN raw_data.metadata_zone m_zone ON m_zone.zone_id = 'FRANCE';\n",
    "'''"
   ]
  },
  {
   "cell_type": "code",
   "execution_count": null,
   "id": "e33b6547",
   "metadata": {},
   "outputs": [],
   "source": [
    "chantier_national = execute_sql(sql_chantier_national)\n",
    "chantier_national.shape"
   ]
  },
  {
   "cell_type": "code",
   "execution_count": null,
   "id": "21f14140",
   "metadata": {},
   "outputs": [],
   "source": [
    "chantier_national.describe(include='all')"
   ]
  },
  {
   "cell_type": "code",
   "execution_count": null,
   "id": "b258b2bb-96b9-4ac6-8a23-f1161a8bbd67",
   "metadata": {},
   "outputs": [],
   "source": [
    "chantier_national.head(200)"
   ]
  },
  {
   "cell_type": "markdown",
   "id": "3cf500a4",
   "metadata": {},
   "source": [
    "C'est le chantier UQP qui est perséverant mais n'a pas de réforme au niveau national"
   ]
  },
  {
   "cell_type": "markdown",
   "id": "ccb1f17b",
   "metadata": {},
   "source": [
    "##### Table public.chantier aux niveaux des Régions et Départements"
   ]
  },
  {
   "cell_type": "code",
   "execution_count": null,
   "id": "7ec8813e",
   "metadata": {},
   "outputs": [],
   "source": [
    "sql_chantier_region_departement = f'''\n",
    "    WITH dfakto_chantier AS (\n",
    "        SELECT fpc.tree_node_id,\n",
    "            fpc.bounded_progress,\n",
    "            split_part(dtn.tree_node_code, '-', 1) as code_chantier,\n",
    "            split_part(dtn.tree_node_code, '-', 2) as code_region\n",
    "        FROM raw_data.fact_progress_chantier fpc \n",
    "            JOIN raw_data.dim_tree_nodes dtn ON fpc.tree_node_id = dtn.tree_node_id \n",
    "            JOIN raw_data.dim_structures ds ON dtn.structure_id = ds.structure_id \n",
    "        WHERE ds.structure_name IN ('Région', 'Département')\n",
    "    )\n",
    "    SELECT m_chantier.chantier_id as id,\n",
    "        m_chantier.ch_nom as nom,\n",
    "        m_chantier.ch_per as ids_perimetre,\n",
    "        m_chantier.\"porteur_ids_noDAC\" as porteurs_ids,\n",
    "        m_chantier.\"porteur_ids_DAC\" as porteurs_dac_ids,\n",
    "        d_chantier.bounded_progress as taux_avancement,\n",
    "        m_zone.nom as zone_nom,\n",
    "        m_zone.zone_code as code_insee\n",
    "    FROM raw_data.metadata_chantier m_chantier\n",
    "        LEFT JOIN dfakto_chantier d_chantier ON m_chantier.ch_perseverant = d_chantier.code_chantier\n",
    "        JOIN raw_data.metadata_zone m_zone ON m_zone.zone_id = d_chantier.code_region;\n",
    "\n",
    "'''"
   ]
  },
  {
   "cell_type": "code",
   "execution_count": null,
   "id": "88167f59-23f0-47f0-ba6d-12c9740b01e1",
   "metadata": {},
   "outputs": [],
   "source": [
    "chantier_reg_dept = execute_sql(sql_chantier_region_departement)\n",
    "chantier_reg_dept.shape"
   ]
  },
  {
   "cell_type": "code",
   "execution_count": null,
   "id": "99c22310-e680-420a-b764-576aab625d64",
   "metadata": {},
   "outputs": [],
   "source": [
    "chantier_reg_dept.describe(include='all')"
   ]
  },
  {
   "cell_type": "code",
   "execution_count": null,
   "id": "ace867d7-fa77-475f-8500-0f2d777c929f",
   "metadata": {},
   "outputs": [],
   "source": [
    "chantier_reg_dept.head(200)"
   ]
  },
  {
   "cell_type": "code",
   "execution_count": null,
   "id": "48492718-4873-42f5-b808-2ede0d57401f",
   "metadata": {},
   "outputs": [],
   "source": []
  }
 ],
 "metadata": {
  "kernelspec": {
   "display_name": "Python 3 (ipykernel)",
   "language": "python",
   "name": "python3"
  },
  "language_info": {
   "codemirror_mode": {
    "name": "ipython",
    "version": 3
   },
   "file_extension": ".py",
   "mimetype": "text/x-python",
   "name": "python",
   "nbconvert_exporter": "python",
   "pygments_lexer": "ipython3",
   "version": "3.9.13"
  }
 },
 "nbformat": 4,
 "nbformat_minor": 5
}
