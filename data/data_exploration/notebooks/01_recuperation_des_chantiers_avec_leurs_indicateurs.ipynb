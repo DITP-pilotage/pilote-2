{
 "cells": [
  {
   "cell_type": "markdown",
   "id": "20b7790a-f0b5-4bf6-beca-9eaa7d6976e3",
   "metadata": {},
   "source": [
    "# Récupération des csv nécessaires pour le filtrage des indicateurs conservés\n",
    "\n",
    "En partant des réformes actuellement présentes du dump_dfakto_octo ainsi que de la liste des 50 chantiers à conserver, nous allons croiser ces données pour récupérer les chantiers et leurs indicateurs pour le nouveau périmètre de PILOTE. "
   ]
  },
  {
   "cell_type": "code",
   "execution_count": null,
   "id": "950f7c1f-e3a7-4e68-bc63-bc1ef35d36eb",
   "metadata": {},
   "outputs": [],
   "source": [
    "import pandas as pd"
   ]
  },
  {
   "cell_type": "markdown",
   "id": "0d4f88a4-15aa-4371-b45b-9b3248c5d778",
   "metadata": {},
   "source": [
    "### Liste des 50 chantiers conservés"
   ]
  },
  {
   "cell_type": "code",
   "execution_count": null,
   "id": "9892b20c-a7ad-4fa9-b67a-ec64baa720cc",
   "metadata": {},
   "outputs": [],
   "source": [
    "df_chantiers = pd.read_csv(\"../data/DITP_Liste_chantiers_perseverants-avec-trigramme.csv\")\n"
   ]
  },
  {
   "cell_type": "code",
   "execution_count": null,
   "id": "59fa4763-445b-40f0-8374-8a7a8642e4f1",
   "metadata": {},
   "outputs": [],
   "source": [
    "df_chantiers"
   ]
  },
  {
   "cell_type": "markdown",
   "id": "79965c6e",
   "metadata": {},
   "source": [
    "### Liste de l'ensemble des réformes actuelles"
   ]
  },
  {
   "cell_type": "code",
   "execution_count": null,
   "id": "da85e8cc",
   "metadata": {},
   "outputs": [],
   "source": [
    "df_indicateurs_des_reformes = pd.read_csv(\"../data/dump_dfakto_octo/rp/views/meta/rp_view_meta_indicateur.csv\", sep = \";\")\n"
   ]
  },
  {
   "cell_type": "code",
   "execution_count": null,
   "id": "7a8b61f4",
   "metadata": {},
   "outputs": [],
   "source": [
    "df_indicateurs_des_reformes"
   ]
  },
  {
   "cell_type": "code",
   "execution_count": null,
   "id": "30021442",
   "metadata": {},
   "outputs": [],
   "source": [
    "df_chantiers_avec_indicateurs = pd.merge(\n",
    "    df_chantiers, \n",
    "    df_indicateurs_des_reformes, \n",
    "    left_on='Trigrammes (from ID_Code)',\n",
    "    right_on='Reforme_code',\n",
    "    how='left')"
   ]
  },
  {
   "cell_type": "code",
   "execution_count": null,
   "id": "425221f0",
   "metadata": {},
   "outputs": [],
   "source": [
    "df_chantiers_avec_indicateurs = df_chantiers_avec_indicateurs.drop(columns = ['Trigrammes (from ID_Code)'])"
   ]
  },
  {
   "cell_type": "code",
   "execution_count": null,
   "id": "38e3068d",
   "metadata": {},
   "outputs": [],
   "source": [
    "df_chantiers_avec_indicateurs = df_chantiers_avec_indicateurs.rename(columns = {'Reforme_code': 'Chantier_code'})"
   ]
  },
  {
   "cell_type": "code",
   "execution_count": null,
   "id": "0abff0cb",
   "metadata": {},
   "outputs": [],
   "source": [
    "df_chantiers_avec_indicateurs"
   ]
  },
  {
   "cell_type": "code",
   "execution_count": null,
   "id": "c8e78e36",
   "metadata": {},
   "outputs": [],
   "source": [
    "df_chantiers_avec_indicateurs.to_csv(\"../data/chantiers_et_leurs_indicateurs.csv\")"
   ]
  },
  {
   "cell_type": "code",
   "execution_count": null,
   "id": "d16353ad",
   "metadata": {},
   "outputs": [],
   "source": []
  }
 ],
 "metadata": {
  "kernelspec": {
   "display_name": "Python 3 (ipykernel)",
   "language": "python",
   "name": "python3"
  },
  "language_info": {
   "codemirror_mode": {
    "name": "ipython",
    "version": 3
   },
   "file_extension": ".py",
   "mimetype": "text/x-python",
   "name": "python",
   "nbconvert_exporter": "python",
   "pygments_lexer": "ipython3",
   "version": "3.9.16"
  }
 },
 "nbformat": 4,
 "nbformat_minor": 5
}
