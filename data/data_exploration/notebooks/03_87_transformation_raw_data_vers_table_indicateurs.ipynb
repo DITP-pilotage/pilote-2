{
 "cells": [
  {
   "cell_type": "markdown",
   "id": "debaed16",
   "metadata": {},
   "source": [
    "# Transformation des données des tables raw_data vers la table indicateur pour le schéma public"
   ]
  },
  {
   "cell_type": "code",
   "execution_count": null,
   "id": "ee97e66b",
   "metadata": {},
   "outputs": [],
   "source": [
    "# import des librairies nécessaires pour l'exploration\n",
    "import pandas as pd\n",
    "from pandas_profiling import ProfileReport\n",
    "\n",
    "from src.postgresql_connector import PostgreSQLConnector\n",
    "\n",
    "pd.set_option('display.max_columns', 100)\n",
    "pd.set_option('display.max_rows', 350)"
   ]
  },
  {
   "cell_type": "markdown",
   "id": "8c437456",
   "metadata": {},
   "source": [
    "## Lire des données d'une table"
   ]
  },
  {
   "cell_type": "code",
   "execution_count": null,
   "id": "3f0557dc",
   "metadata": {},
   "outputs": [],
   "source": [
    "def read_table(table: str, schema = 'public') -> pd.DataFrame:\n",
    "    pg_connector = PostgreSQLConnector()\n",
    "    table = pd.read_sql_query(\n",
    "        sql=f'''\n",
    "                SELECT *\n",
    "                FROM {schema}.{table}\n",
    "                ''',\n",
    "        con=pg_connector.connection\n",
    "    )\n",
    "    return table"
   ]
  },
  {
   "cell_type": "code",
   "execution_count": null,
   "id": "0530e417",
   "metadata": {},
   "outputs": [],
   "source": [
    "def execute_sql(sql_request: str) -> pd.DataFrame:\n",
    "    pg_connector = PostgreSQLConnector()\n",
    "    table = pd.read_sql_query(\n",
    "        sql=sql_request,\n",
    "        con=pg_connector.connection\n",
    "    )\n",
    "    return table"
   ]
  },
  {
   "cell_type": "markdown",
   "id": "753219b5",
   "metadata": {},
   "source": [
    "### Lecture des tables "
   ]
  },
  {
   "cell_type": "code",
   "execution_count": null,
   "id": "6322eaff",
   "metadata": {},
   "outputs": [],
   "source": [
    "metadata_indicateur = read_table('metadata_indicateur', 'raw_data')\n",
    "fact_progress_indicateur = read_table('fact_progress_indicateur', 'raw_data')\n",
    "dim_structures = read_table('dim_structures', 'raw_data')\n",
    "dim_tree_nodes = read_table('dim_tree_nodes', 'raw_data')\n",
    "type_indicateur = read_table('indicateur_type', 'raw_data')"
   ]
  },
  {
   "cell_type": "code",
   "execution_count": null,
   "id": "20921097",
   "metadata": {},
   "outputs": [],
   "source": [
    "prof = ProfileReport(metadata_indicateur)\n",
    "prof.to_file(output_file='rapport_metadata_indicateur.html')"
   ]
  },
  {
   "cell_type": "markdown",
   "id": "65c1798f",
   "metadata": {},
   "source": [
    "### Requête SQL"
   ]
  },
  {
   "cell_type": "markdown",
   "id": "02e50b31",
   "metadata": {},
   "source": [
    "#### Dfakto indicateurs"
   ]
  },
  {
   "cell_type": "code",
   "execution_count": null,
   "id": "b746195b",
   "metadata": {},
   "outputs": [],
   "source": [
    "sql_request_dfakto = f''' \n",
    "    SELECT *\n",
    "    FROM raw_data.fact_progress_indicateur fpi \n",
    "        JOIN raw_data.dim_tree_nodes dtn ON fpi.tree_node_id=dtn.tree_node_id\n",
    "        JOIN raw_data.dim_structures ds ON dtn.structure_id=ds.structure_id\n",
    "    WHERE ds.structure_name='Réforme'\n",
    "    ORDER BY effect_id, date_valeur_cible DESC NULLS LAST\n",
    "'''"
   ]
  },
  {
   "cell_type": "code",
   "execution_count": null,
   "id": "54dd6ece",
   "metadata": {},
   "outputs": [],
   "source": [
    "dfakto_indicateurs = execute_sql(sql_request_dfakto)\n",
    "dfakto_indicateurs = dfakto_indicateurs.T.drop_duplicates().T\n",
    "print(dfakto_indicateurs.shape)\n",
    "print(dfakto_indicateurs.effect_id.nunique())"
   ]
  },
  {
   "cell_type": "code",
   "execution_count": null,
   "id": "33bd5e79",
   "metadata": {},
   "outputs": [],
   "source": [
    "dfakto_indicateurs.effect_id.value_counts()"
   ]
  },
  {
   "cell_type": "markdown",
   "id": "fa29ebab",
   "metadata": {},
   "source": [
    "#### Public indicateurs"
   ]
  },
  {
   "cell_type": "code",
   "execution_count": null,
   "id": "eccf7109",
   "metadata": {},
   "outputs": [],
   "source": [
    "sql_request_public_indicateur_with_latest_date_valeur_cible = f'''\n",
    "    SELECT DISTINCT ON (effect_id) \n",
    "        indic_id as id,\n",
    "        indic_nom as nom,\n",
    "        indic_parent_ch as chantier_id,\n",
    "        valeur_cible as objectif_valeur_cible,\n",
    "        bounded_progress as objectif_taux_avancement, \n",
    "        to_char(extract(year from date_valeur_cible), '9999') as objectif_date_valeur_cible,\n",
    "        indic_type as type_id,\n",
    "        indic_type_name as type_nom,\n",
    "        indic_is_baro as est_barometre,\n",
    "        indic_is_phare as est_phare\n",
    "    FROM raw_data.fact_progress_indicateur fpi \n",
    "        JOIN raw_data.dim_tree_nodes dtn ON fpi.tree_node_id=dtn.tree_node_id\n",
    "        JOIN raw_data.dim_structures ds ON dtn.structure_id=ds.structure_id\n",
    "        INNER JOIN raw_data.metadata_indicateur mi on mi.indic_nom=fpi.effect_id\n",
    "        LEFT JOIN raw_data.indicateur_type it on it.indic_type_id=mi.indic_type\n",
    "    WHERE ds.structure_name='Réforme'\n",
    "    ORDER BY effect_id, date_valeur_cible DESC NULLS LAST\n",
    "'''"
   ]
  },
  {
   "cell_type": "code",
   "execution_count": null,
   "id": "ed5f1f7c",
   "metadata": {},
   "outputs": [],
   "source": [
    "sql_request_public_indicateur = f'''\n",
    "    SELECT DISTINCT ON (effect_id) \n",
    "        indic_id as id,\n",
    "        indic_nom as nom,\n",
    "        indic_parent_ch as chantier_id,\n",
    "        valeur_initiale,\n",
    "        date_valeur_initiale, \n",
    "        valeur_actuelle,\n",
    "        date_valeur_actuelle, \n",
    "        valeur_cible as objectif_valeur_cible,\n",
    "        bounded_progress as objectif_taux_avancement, \n",
    "        to_char(extract(year from date_valeur_cible), '9999') as objectif_date_valeur_cible,\n",
    "        indic_type as type_id,\n",
    "        indic_type_name as type_nom,\n",
    "        indic_is_baro as est_barometre,\n",
    "        indic_is_phare as est_phare\n",
    "    FROM raw_data.fact_progress_indicateur fpi \n",
    "        JOIN raw_data.dim_tree_nodes dtn ON fpi.tree_node_id=dtn.tree_node_id\n",
    "        JOIN raw_data.dim_structures ds ON dtn.structure_id=ds.structure_id\n",
    "        INNER JOIN raw_data.metadata_indicateur mi on mi.indic_nom=fpi.effect_id\n",
    "        LEFT JOIN raw_data.indicateur_type it on it.indic_type_id=mi.indic_type\n",
    "    WHERE ds.structure_name='Réforme'\n",
    "    ORDER BY effect_id, period_id DESC\n",
    "'''"
   ]
  },
  {
   "cell_type": "code",
   "execution_count": null,
   "id": "e33b6547",
   "metadata": {},
   "outputs": [],
   "source": [
    "indicateurs = execute_sql(sql_request_public_indicateur)\n",
    "indicateurs.shape"
   ]
  },
  {
   "cell_type": "code",
   "execution_count": null,
   "id": "21f14140",
   "metadata": {},
   "outputs": [],
   "source": [
    "indicateurs.describe(include='all')"
   ]
  },
  {
   "cell_type": "code",
   "execution_count": null,
   "id": "564810f7",
   "metadata": {},
   "outputs": [],
   "source": [
    "indicateurs"
   ]
  },
  {
   "cell_type": "code",
   "execution_count": null,
   "id": "aa0eb353",
   "metadata": {},
   "outputs": [],
   "source": []
  }
 ],
 "metadata": {
  "kernelspec": {
   "display_name": "ditp-exploration",
   "language": "python",
   "name": "ditp-exploration"
  },
  "language_info": {
   "codemirror_mode": {
    "name": "ipython",
    "version": 3
   },
   "file_extension": ".py",
   "mimetype": "text/x-python",
   "name": "python",
   "nbconvert_exporter": "python",
   "pygments_lexer": "ipython3",
   "version": "3.9.15"
  }
 },
 "nbformat": 4,
 "nbformat_minor": 5
}
