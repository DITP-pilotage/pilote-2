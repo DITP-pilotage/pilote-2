{
 "cells": [
  {
   "cell_type": "markdown",
   "id": "debaed16",
   "metadata": {},
   "source": [
    "# Template de notebook d'exploration de données"
   ]
  },
  {
   "cell_type": "code",
   "execution_count": null,
   "id": "ee97e66b",
   "metadata": {},
   "outputs": [],
   "source": [
    "# import des librairies nécessaires pour l'exploration\n",
    "import pandas as pd"
   ]
  },
  {
   "cell_type": "code",
   "execution_count": null,
   "id": "3f0557dc",
   "metadata": {},
   "outputs": [],
   "source": [
    "pd.set_option('display.max_columns', 100)\n",
    "pd.set_option('display.max_rows', 100)"
   ]
  },
  {
   "cell_type": "code",
   "execution_count": null,
   "id": "5a07c788",
   "metadata": {
    "scrolled": true
   },
   "outputs": [],
   "source": [
    "# chargement des données d'un csv dans un dataframe\n",
    "df_meta_reforme = pd.read_csv('../data/dump_dfakto_octo/rp/views/meta/rp_view_meta_reforme.csv', sep =\";\")"
   ]
  },
  {
   "cell_type": "code",
   "execution_count": null,
   "id": "41308413",
   "metadata": {},
   "outputs": [],
   "source": [
    "# affichage du dataframe\n",
    "df_meta_reforme"
   ]
  },
  {
   "cell_type": "code",
   "execution_count": null,
   "id": "93f7580f",
   "metadata": {},
   "outputs": [],
   "source": [
    "df_data_financials = pd.read_csv('../data/dump_dfakto_octo/rp/views/data/rp_view_data_financials.csv', sep =\";\")"
   ]
  },
  {
   "cell_type": "code",
   "execution_count": null,
   "id": "4ee11e32",
   "metadata": {},
   "outputs": [],
   "source": [
    "df_data_financials.head(20)"
   ]
  },
  {
   "cell_type": "code",
   "execution_count": null,
   "id": "e0d51b6b",
   "metadata": {},
   "outputs": [],
   "source": []
  }
 ],
 "metadata": {
  "kernelspec": {
   "display_name": "ditp-exploration",
   "language": "python",
   "name": "ditp-exploration"
  },
  "language_info": {
   "codemirror_mode": {
    "name": "ipython",
    "version": 3
   },
   "file_extension": ".py",
   "mimetype": "text/x-python",
   "name": "python",
   "nbconvert_exporter": "python",
   "pygments_lexer": "ipython3",
   "version": "3.9.15"
  }
 },
 "nbformat": 4,
 "nbformat_minor": 5
}
